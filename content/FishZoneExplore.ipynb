{
 "cells": [
  {
   "cell_type": "code",
   "execution_count": 1,
   "id": "7209b99d-9cfc-4c10-8394-55588f10e7b4",
   "metadata": {},
   "outputs": [
    {
     "ename": "IndentationError",
     "evalue": "unexpected unindent (fishing.py, line 208)",
     "output_type": "error",
     "traceback": [
      "Traceback \u001b[0;36m(most recent call last)\u001b[0m:\n",
      "\u001b[0m  File \u001b[1;32m~/.local/lib/python3.10/site-packages/IPython/core/interactiveshell.py:3442\u001b[0m in \u001b[1;35mrun_code\u001b[0m\n    exec(code_obj, self.user_global_ns, self.user_ns)\u001b[0m\n",
      "\u001b[0m  Cell \u001b[1;32mIn[1], line 4\u001b[0m\n    from idlescape import *\u001b[0m\n",
      "\u001b[0;36m  File \u001b[0;32m~/home/idle/idlescape/pyoscape/content/idlescape/__init__.py:3\u001b[0;36m\n\u001b[0;31m    from .fishing import *\u001b[0;36m\n",
      "\u001b[0;36m  File \u001b[0;32m~/home/idle/idlescape/pyoscape/content/idlescape/fishing.py:208\u001b[0;36m\u001b[0m\n\u001b[0;31m    except NameError:\u001b[0m\n\u001b[0m                     ^\u001b[0m\n\u001b[0;31mIndentationError\u001b[0m\u001b[0;31m:\u001b[0m unexpected unindent\n"
     ]
    }
   ],
   "source": [
    "import matplotlib.pyplot as plt\n",
    "import numpy as np\n",
    "import pandas as pd\n",
    "from idlescape import *\n",
    "from ipywidgets import interact, widgets\n",
    "\n",
    "locationFile = \"data/locations.json\"\n",
    "itemFile = \"data/items.json\"\n",
    "player = Character(\n",
    "    datafile=itemFile,\n",
    "    fishing_level=72,\n",
    "    fishing_bonus=18,\n",
    "    fishing_set_bonus=0.0,\n",
    "    bait_power=55.5,\n",
    "    reel_power=47+15,\n",
    "    bonus_rarity=21,\n",
    "    mining_level=86,\n",
    "    mining_set_bonus=0.25,\n",
    "    mining_bonus=59,\n",
    "    foraging_level=82,\n",
    "    foraging_bonus=59,\n",
    "    foraging_set_bonus=0.0,\n",
    "    )\n",
    "fishing = Fishing(player, locationFile);\n",
    "mining = Mining(player, locationFile);\n",
    "foraging = Foraging(player, locationFile);"
   ]
  },
  {
   "cell_type": "markdown",
   "id": "459a4f0b-aca2-402a-9a7a-d6d78fd0b11c",
   "metadata": {},
   "source": [
    "# Prototype page design, then export to jupyterlite\n",
    "- Top portion should be a bunch of inputs that let the player input their levels and gear.\n",
    "- Next would be a plot region where you select: plot-by-resource and plot-by-location\n",
    "- Finally a table displaying resource rate by zone\n",
    "\n",
    "### Todo\n",
    "- [ ] Convert fractions to hourly rates\n",
    "- [ ] Check we are using the min/max roll average"
   ]
  },
  {
   "cell_type": "code",
   "execution_count": null,
   "id": "bb549fc8-0513-4b2a-92f7-a8366e29c99c",
   "metadata": {},
   "outputs": [],
   "source": [
    "interact(lambda x: setattr( player, 'fishing_level', x ), \n",
    "         x=widgets.IntSlider(min=1, max=200, value=player.fishing_level, description='Fishing Level'))\n",
    "interact(lambda x: setattr( player, 'mining_level', x ), \n",
    "         x=widgets.IntSlider(min=1, max=200, value=player.mining_level, description='Mining Level'))\n",
    "interact(lambda x: setattr( player, 'foraging_level', x ), \n",
    "         x=widgets.IntSlider(min=1, max=200, value=player.foraging_level, description='Foraging Level'))"
   ]
  },
  {
   "cell_type": "code",
   "execution_count": null,
   "id": "5720b55b-052d-443e-934b-cfc1074ec2b8",
   "metadata": {},
   "outputs": [],
   "source": [
    "# Something added like:\n",
    "\"\"\"\n",
    "Fishing::get_locations_as_dataframe\n",
    "\"\"\""
   ]
  },
  {
   "cell_type": "code",
   "execution_count": null,
   "id": "ef3f1426-eb6c-48e1-ad46-5e8ae7fc4520",
   "metadata": {},
   "outputs": [],
   "source": [
    "def summary_plot(action, zone):\n",
    "    item_series = action.location_item_histogram(zone, interval='hour').round(1)\n",
    "    if( item_series.sum() > 0 ):\n",
    "        fig, axs = plt.subplots(1,2, figsize=(16,6))\n",
    "        axs[0].set_title(zone)\n",
    "        item_series.plot.pie(ax=axs[0])\n",
    "        item_series.plot.bar(ax=axs[1])\n",
    "        axs[1].bar_label(axs[1].containers[0])"
   ]
  },
  {
   "cell_type": "code",
   "execution_count": null,
   "id": "d2c1e0d7-0c8c-40e0-ba3c-ee20de37b96a",
   "metadata": {
    "tags": []
   },
   "outputs": [],
   "source": [
    "zone = 'Stormy Seas'\n",
    "#player.enchantments['Fiber Finder'] = 0\n",
    "#player.reel_power = 40 + 8*3\n",
    "summary_plot(fishing, zone)\n",
    "\n",
    "#player.enchantments['Fiber Finder'] = 8\n",
    "#player.reel_power = 40 + 3*3\n",
    "summary_plot(fishing, zone)"
   ]
  },
  {
   "cell_type": "code",
   "execution_count": null,
   "id": "474ed45a-312f-4ed1-b8d0-69d865a38171",
   "metadata": {
    "tags": []
   },
   "outputs": [],
   "source": [
    "zone = 'Frozen Tundra'\n",
    "display(foraging.list_of_actions())\n",
    "#player.enchantments['nature'] = 0\n",
    "#player.enchantments['herbalist'] = 0\n",
    "#player.enchantments['seedHarvesting'] = 0\n",
    "#summary_plot(foraging, zone)\n",
    "\n",
    "player.enchantments['nature'] = 3\n",
    "player.enchantments['herbalist'] = 3\n",
    "player.enchantments['seedHarvesting'] = 3\n",
    "summary_plot(foraging, zone)\n",
    "\n",
    "player.enchantments['nature'] = 3\n",
    "player.enchantments['herbalist'] = 0\n",
    "player.enchantments['seedHarvesting'] = 0\n",
    "summary_plot(foraging, zone)\n",
    "\n",
    "player.enchantments['nature'] = 0\n",
    "player.enchantments['herbalist'] = 3\n",
    "player.enchantments['seedHarvesting'] = 0\n",
    "summary_plot(foraging, zone)\n",
    "\n",
    "player.enchantments['nature'] = 0\n",
    "player.enchantments['herbalist'] = 0\n",
    "player.enchantments['seedHarvesting'] = 3\n",
    "summary_plot(foraging, zone)\n"
   ]
  },
  {
   "cell_type": "code",
   "execution_count": null,
   "id": "9bc93764-5f86-4c8b-903d-79297a69c572",
   "metadata": {},
   "outputs": [],
   "source": [
    "display(mining.list_of_actions())\n",
    "for action_name in mining.list_of_actions():\n",
    "    summary_plot(mining, action_name)"
   ]
  },
  {
   "cell_type": "code",
   "execution_count": null,
   "id": "bdeb1d89-ae6a-4771-989f-05fc1187e02f",
   "metadata": {},
   "outputs": [],
   "source": [
    "player.enchantments['nature'] = 3\n",
    "player.enchantments['herbalist'] = 3\n",
    "player.enchantments['seedHarvesting'] = 3\n",
    "display(foraging.list_of_actions())\n",
    "for action_name in foraging.list_of_actions():\n",
    "    summary_plot(foraging, action_name)"
   ]
  },
  {
   "cell_type": "code",
   "execution_count": null,
   "id": "94d06722-f6ee-4e25-9b86-98a6a160f309",
   "metadata": {},
   "outputs": [],
   "source": [
    "display(fishing.list_of_actions())\n",
    "for action_name in fishing.list_of_actions():\n",
    "    summary_plot(fishing, action_name)"
   ]
  },
  {
   "cell_type": "code",
   "execution_count": null,
   "id": "88348749-241b-48b1-b66c-1da66732a65b",
   "metadata": {},
   "outputs": [],
   "source": [
    "# Things needed for MC generation\n",
    "display(f'Zone levels: {[ loc.level for (k, loc) in fishing.locations.items() ]}')\n",
    "# Min / Max bases\n",
    "fishing.locations['Shallow Pond'].nodes['Shallow Flora'].minimum_base_amount\n",
    "low = np.unique(np.concatenate([ [n.minimum_base_amount for (z, n) in v.nodes.items() ] for (k, v) in fishing.locations.items() ]))\n",
    "high = np.unique(np.concatenate([ [n.maximum_base_amount for (z, n) in v.nodes.items() ] for (k, v) in fishing.locations.items() ]))\n",
    "delta = np.max(high) - np.min(low)\n",
    "display(f'Min: {low}, Max: {high} -> Delta: {delta}')"
   ]
  },
  {
   "cell_type": "code",
   "execution_count": null,
   "id": "028c7bb9-adf2-48ee-adf1-644f49072f60",
   "metadata": {},
   "outputs": [],
   "source": [
    "with open('data/locations.json') as j:\n",
    "    data = json.load(j)\n",
    "    \n",
    "#for (k, v) in data.items():\n",
    "#    print(k, v['name'])\n",
    "#display(data.keys())\n",
    "display(data['154']['accessRequirements']['requiredSkills'])\n",
    "display(data['56']['accessRequirements']['requiredSkills'])\n",
    "#data['154']['accessRequirements']['requiredSkills']"
   ]
  },
  {
   "cell_type": "code",
   "execution_count": null,
   "id": "be67d72e-f2c9-41fc-bada-eb532a427f1f",
   "metadata": {},
   "outputs": [],
   "source": [
    "def pretty_print_loc(action, location_name):\n",
    "    loc = action.locations[location_name]\n",
    "    for (k, node) in loc.nodes.items():\n",
    "        print(f'~~~ {k} ~~~' )\n",
    "        print(f'{\"\":<4}{node.tags}: {node.frequency} -> {node.max_frequency} :: {node.minimum_base_amount} - {node.maximum_base_amount}')\n",
    "        for (k, v) in node.loot.items():\n",
    "            iname = action.player.item_data[str(k)]['name']\n",
    "            iexp = action.player.item_data[str(k)].get('experience', 0)\n",
    "            min_count = v.min_amount\n",
    "            max_count = v.max_amount\n",
    "            freq = v.frequency\n",
    "            print(f'{\"\":<4}{iname:<25} {min_count:>10} -> {max_count} ({(max_count+min_count)/2:0.1f}) ... [{freq:>5}]')\n",
    "            #if iname not in item_name:\n",
    "            #    item_name.append(iname)\n",
    "            #    item_xp.append(iexp)\n",
    "            #    item_id.append(k)\n",
    "            \n",
    "def zone_summary_pretty(action):\n",
    "    display(action.list_of_actions())\n",
    "    for locname in action.list_of_actions():\n",
    "        print(locname)\n",
    "        pretty_print_loc(action, locname)\n",
    "#zone_summary_pretty(fishing)\n",
    "#pretty_print_loc(fishing, 'Open Ocean')\n",
    "#pretty_print_loc(mining, 'Ocean')\n",
    "zone_summary_pretty(mining)"
   ]
  },
  {
   "cell_type": "code",
   "execution_count": null,
   "id": "e75c3c70-998e-44e9-8568-d5732bf17728",
   "metadata": {},
   "outputs": [],
   "source": [
    "player.item_data['4020']\n",
    "\n",
    "fishing.locations['Open Ocean'].nodes['Ocean Flora'].loot[4020].item_class"
   ]
  }
 ],
 "metadata": {
  "kernelspec": {
   "display_name": "Python 3 (ipykernel)",
   "language": "python",
   "name": "python3"
  },
  "language_info": {
   "codemirror_mode": {
    "name": "ipython",
    "version": 3
   },
   "file_extension": ".py",
   "mimetype": "text/x-python",
   "name": "python",
   "nbconvert_exporter": "python",
   "pygments_lexer": "ipython3",
   "version": "3.10.9"
  }
 },
 "nbformat": 4,
 "nbformat_minor": 5
}
